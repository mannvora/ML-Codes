{
 "cells": [
  {
   "cell_type": "markdown",
   "id": "0201eef8",
   "metadata": {
    "id": "0201eef8"
   },
   "source": [
    "# Linear regression [7 pts]\n",
    "\n",
    "In this homework, you will implement solution algorithms for linear regression.\n",
    "\n",
    "\n",
    "## Import libraries\n",
    "Let's begin by importing some libraries."
   ]
  },
  {
   "cell_type": "code",
   "execution_count": 19,
   "id": "5e93db53",
   "metadata": {
    "colab": {
     "base_uri": "https://localhost:8080/"
    },
    "id": "5e93db53",
    "outputId": "f30adb9d-d1fa-41df-ace8-2f2a95fb3cec"
   },
   "outputs": [
    {
     "name": "stdout",
     "output_type": "stream",
     "text": [
      "Automatically created module for IPython interactive environment\n"
     ]
    }
   ],
   "source": [
    "## Name : Mann Anil Vora\n",
    "## ASU ID: 1231868809\n",
    "\n",
    "\n",
    "print(__doc__)\n",
    "import matplotlib.pyplot as plt\n",
    "import numpy as np\n",
    "from sklearn import datasets\n",
    "%matplotlib inline"
   ]
  },
  {
   "cell_type": "markdown",
   "id": "3b7f958f",
   "metadata": {
    "id": "3b7f958f"
   },
   "source": [
    "## Load dataset\n",
    "\n",
    "Now, we are importing a dataset of diabetes. You can check the details on this dataset here: https://scikit-learn.org/stable/datasets/toy_dataset.html#diabetes-dataset.\n",
    "\n",
    "The dataset consists of 442 observations with 10 attributes ($X$) that may affect the progression of diabetes ($y$). Ten baseline variables, age, sex, body mass index, average blood pressure, and six blood serum measurements were obtained for each of $n$ = 442 diabetes patients, as well as the response of interest, a quantitative measure of disease progression one year after baseline."
   ]
  },
  {
   "cell_type": "code",
   "execution_count": 3,
   "id": "45b7be6c",
   "metadata": {
    "colab": {
     "base_uri": "https://localhost:8080/"
    },
    "id": "45b7be6c",
    "outputId": "9f1e11c1-a56d-4978-f766-35d35c23d1cd"
   },
   "outputs": [
    {
     "name": "stdout",
     "output_type": "stream",
     "text": [
      "The shape of the input features: (442, 10)\n",
      "The shape of the output varaible: (442,)\n"
     ]
    }
   ],
   "source": [
    "# Load the diabetes dataset\n",
    "diabetes_X, diabetes_y = datasets.load_diabetes(return_X_y=True)\n",
    "print('The shape of the input features:',diabetes_X.shape)\n",
    "print('The shape of the output varaible:',diabetes_y.shape)"
   ]
  },
  {
   "cell_type": "markdown",
   "id": "33d43652",
   "metadata": {
    "id": "33d43652"
   },
   "source": [
    "We will choose just one attribute from the ten attributes as an input variable."
   ]
  },
  {
   "cell_type": "code",
   "execution_count": 4,
   "id": "333d01d6",
   "metadata": {
    "colab": {
     "base_uri": "https://localhost:8080/"
    },
    "id": "333d01d6",
    "outputId": "9118b906-2265-4765-ee91-7afea9530ba0"
   },
   "outputs": [
    {
     "name": "stdout",
     "output_type": "stream",
     "text": [
      "(442, 1)\n"
     ]
    }
   ],
   "source": [
    "# Use only one feature\n",
    "diabetes_X_one = diabetes_X[:, np.newaxis, 2]\n",
    "print(diabetes_X_one.shape)"
   ]
  },
  {
   "cell_type": "markdown",
   "id": "2d5d51ee",
   "metadata": {
    "id": "2d5d51ee"
   },
   "source": [
    "## Dataset split\n",
    "\n",
    "Now, we split the dataset into two parts: training set and test set.\n",
    "\n",
    "- training set: 422 samples\n",
    "- test set: 20 samples"
   ]
  },
  {
   "cell_type": "code",
   "execution_count": 5,
   "id": "3b1cadcc",
   "metadata": {
    "colab": {
     "base_uri": "https://localhost:8080/"
    },
    "id": "3b1cadcc",
    "outputId": "90efc8dc-2af3-46f3-b5bd-4a08c7538fe6"
   },
   "outputs": [
    {
     "name": "stdout",
     "output_type": "stream",
     "text": [
      "Training input variable shape: (422, 1)\n",
      "Test input variable shape: (20, 1)\n"
     ]
    }
   ],
   "source": [
    "# Split the data into training/testing sets\n",
    "diabetes_X_train = diabetes_X_one[:-20]\n",
    "diabetes_X_test = diabetes_X_one[-20:]\n",
    "\n",
    "# Split the targets into training/testing sets\n",
    "diabetes_y_train = diabetes_y[:-20]\n",
    "diabetes_y_test = diabetes_y[-20:]\n",
    "\n",
    "print('Training input variable shape:', diabetes_X_train.shape)\n",
    "print('Test input variable shape:', diabetes_X_test.shape)"
   ]
  },
  {
   "cell_type": "markdown",
   "id": "69db6e06",
   "metadata": {
    "id": "69db6e06"
   },
   "source": [
    "## Linear regression\n",
    "\n",
    "Assume that we have a hypothesis $$ h_{\\theta}(x) = \\theta_0 + \\theta_1 x. $$\n",
    "\n",
    "Your tasks:\n",
    "\n",
    "- [3pts] implement \\textbf{your own version} of the method of least-squares, compute and report $\\theta_0$ and $\\theta_1$ that minimize the residual sum of squares, )\n",
    "$$ \\sum_{i=1}^{N} \\frac{1}{2}( y^{(i)} - h_{\\theta}(x^{(i)})^2$$\n",
    "\n",
    "[IMPORTANT] Do not just call the least square function from libraries, for example,\n",
    "scipy.optimize.least_squares from scipy. Doing so will result in 0 point. Using helping functions such as numpy.linalg.inv is okay.\n",
    "\n",
    "- [3pts] implement your own version of the gradient descent algorithm, compute and report $\\theta_0$ and $\\theta_1$ that minimize the mean squared error $$ \\sum_{i=1}^{N} \\frac{1}{N}( y^{(i)} - h_{\\theta}(x^{(i)})^2$$\n",
    "\n",
    "[NOTE] Notice that the loss function is mean-squared error.\n",
    "\n",
    "- [1pts] derive the analytical expression of the gradient if the loss is defined as\n",
    "$$ \\sum_{i=1}^{N} \\frac{1}{2}( y^{(i)} - h_{\\theta}(x^{(i)})^2 + \\frac{\\lambda}{2} \\| \\theta \\|_2^2, $$\n",
    "where $\\theta = [\\theta_0, \\theta_1]^{\\intercal}$\n",
    "\n",
    "To check whether your computation is correct, consider using an API such as Scikit learn linearregression."
   ]
  },
  {
   "cell_type": "code",
   "execution_count": 10,
   "id": "f7HF8LFmpg_j",
   "metadata": {
    "colab": {
     "base_uri": "https://localhost:8080/",
     "height": 447
    },
    "id": "f7HF8LFmpg_j",
    "outputId": "5343cafc-e10a-469e-e0f4-ff17d2659a28"
   },
   "outputs": [
    {
     "name": "stdout",
     "output_type": "stream",
     "text": [
      "[938.23786125] [152.91886183]\n"
     ]
    },
    {
     "data": {
      "image/png": "[encoded data removed]",
      "text/plain": [
       "<Figure size 640x480 with 1 Axes>"
      ]
     },
     "metadata": {},
     "output_type": "display_data"
    }
   ],
   "source": [
    "#Question 1: Implemented linear regression from scratch by implementing using class. The fit function is\n",
    "# used to find the best fit line and predict is used to determine the prediected values\n",
    "\n",
    "#To obtain this formula, I initially took the hypothesis function and differentiated w.r.t to theta0 and equalized it to 0.\n",
    "#As a result, I obtained formula Theta0  = (Mean of all values on Y axis) - theta1 * (Mean of all values on X axis)\n",
    "\n",
    "# Added the above obtained formula in the Hypothesis function, To find the equation of Theta1\n",
    "# Theta1  = Summation((y(i) - meanof(y)) * (x(i) - meanof(x))) / summation((x(i) - meanof(x))^2)\n",
    "\n",
    "## Another Formula is the closed form Theta = ((X^T.X)^-1).X^T.y\n",
    "## This is implemented as an alternate implementation in another half.\n",
    "\n",
    "\n",
    "class ApnaLinearRegression:\n",
    "  def __init__(self):\n",
    "    self.m = None\n",
    "    self.b = None\n",
    "\n",
    "  def mHandler(self):\n",
    "    return self.m\n",
    "\n",
    "  def bHandler(self):\n",
    "    return self.b\n",
    "\n",
    "  def fit(self, X_train, y_train):\n",
    "\n",
    "    num = 0\n",
    "    den = 0\n",
    "\n",
    "    for i in range(X_train.shape[0]):\n",
    "\n",
    "      num = num + (X_train[i] - X_train.mean()) * (y_train[i] - y_train.mean())\n",
    "      den = den + (X_train[i] - X_train.mean()) * (X_train[i] - X_train.mean())\n",
    "\n",
    "    self.m = num /  den\n",
    "    self.b = y_train.mean() - (self.m * X_train.mean())\n",
    "\n",
    "    print(self.m, self.b)\n",
    "\n",
    "  def predict(self, X_test):\n",
    "    return self.m * X_test + self.b\n",
    "\n",
    "lr = ApnaLinearRegression()\n",
    "\n",
    "lr.fit(diabetes_X_train, diabetes_y_train)\n",
    "\n",
    "final = lr.predict(diabetes_X_test)\n",
    "\n",
    "plt.scatter(diabetes_X_test, diabetes_y_test)\n",
    "plt.plot(diabetes_X_test, final)\n",
    "plt.show()"
   ]
  },
  {
   "cell_type": "code",
   "execution_count": 6,
   "id": "4784ff6a",
   "metadata": {
    "colab": {
     "base_uri": "https://localhost:8080/"
    },
    "id": "4784ff6a",
    "outputId": "58706ff6-231f-4ccc-83af-ec95c6ee4415"
   },
   "outputs": [
    {
     "name": "stdout",
     "output_type": "stream",
     "text": [
      "[152.91886183 938.23786125]\n"
     ]
    }
   ],
   "source": [
    "#Question 1: Obtaining the values of theta1 and theta0 using the direct closed form formula:\n",
    "\n",
    "#Finding the values of Theta0 and Theta1 by using the direct formula:\n",
    "# Using the matrix closed form and finally getting the formula:\n",
    "# Theta = ((X^T . X) ^ -1) . X^T . y\n",
    "\n",
    "diabetes_X_matrix = np.c_[np.ones((422, 1)), diabetes_X_train]\n",
    "\n",
    "X_T = np.transpose(diabetes_X_matrix)\n",
    "X_T_X = np.dot(X_T, diabetes_X_matrix)\n",
    "INV = np.linalg.inv(X_T_X)\n",
    "semi = np.dot(INV, X_T)\n",
    "theta = np.dot(semi, diabetes_y_train)\n",
    "print(theta)"
   ]
  },
  {
   "cell_type": "code",
   "execution_count": 18,
   "id": "WzcsDOQhtGgJ",
   "metadata": {
    "colab": {
     "base_uri": "https://localhost:8080/",
     "height": 447
    },
    "id": "WzcsDOQhtGgJ",
    "outputId": "4c4d3e87-0257-4c3b-b49c-6302fc708ec3"
   },
   "outputs": [
    {
     "name": "stdout",
     "output_type": "stream",
     "text": [
      "938.2320613235692 152.9188645705319\n"
     ]
    },
    {
     "data": {
      "image/png": "[encoded data removed]",
      "text/plain": [
       "<Figure size 640x480 with 1 Axes>"
      ]
     },
     "metadata": {},
     "output_type": "display_data"
    }
   ],
   "source": [
    "#Question 2: Implemented Gradient Descent by using the formula as mentioned in the Slides provided.\n",
    "\n",
    "# Learning rate == 0.001. // Used the following formula to find the gradient descent:\n",
    "\n",
    "# (Theta0)New := (Theta0)Old - LearningRate * slope\n",
    "\n",
    "## To obtain the formula to changes the values of theta0 and theta1 at each step:\n",
    "\n",
    "# Did partial derivates with respect to Theta0 and Theta1:\n",
    "\n",
    "# Formula: theta0 = -2 * summation ((y(i) - theta1 * x(i) - b) * 1)\n",
    "\n",
    "# Similarly for Theta1, after taking partial derivative\n",
    "# Theta1 = -2 * summation ((y(i) - theta1 * x(i) - b) * x(i))\n",
    "\n",
    "m = 0\n",
    "b = 0\n",
    "learningRate = 0.001\n",
    "\n",
    "## No. Of Iterations\n",
    "epochs = 7000\n",
    "\n",
    "for i in range(epochs):\n",
    "\n",
    "    ## Calculating the (learning rate * slope) as per the formula:\n",
    "    loss_slope = -2 * np.sum(diabetes_y_train - m * diabetes_X_train.ravel() - b)\n",
    "\n",
    "    ## Finding the current best fit line as per the current values of theta0 and theta1\n",
    "    y_pred = m * diabetes_X_train + b\n",
    "\n",
    "    ##Ploting the currently obtained best fit line\n",
    "    plt.plot(diabetes_X_train, y_pred, color = \"pink\", label = \"Gradient Descent\")\n",
    "\n",
    "    ## Changing the value of Theta1 to new value to minimize the mean squared error\n",
    "    for j in range(len(diabetes_X_train)):\n",
    "        delta_m = -2 * (diabetes_y_train[j] - m * diabetes_X_train[j, 0] - b) * diabetes_X_train[j, 0]\n",
    "        m -= learningRate * delta_m\n",
    "\n",
    "    ## Changing the value of Theta1 to new value as per the formula to find a better best fit line in the nezt iteration\n",
    "    b = b - (learningRate * loss_slope)\n",
    "\n",
    "print(m, b)\n",
    "\n",
    "\n",
    "\n",
    "plt.scatter(diabetes_X_test, diabetes_y_test)\n",
    "\n",
    "## This is the best fit line obtained by using the values from the direct formula of theta from Q1.\n",
    "plt.plot(diabetes_X_test, final, color=\"blue\", label = \"direct formula line\")\n",
    "plt.show()"
   ]
  }
 ],
 "metadata": {
  "colab": {
   "provenance": []
  },
  "kernelspec": {
   "display_name": "Python 3 (ipykernel)",
   "language": "python",
   "name": "python3"
  },
  "language_info": {
   "codemirror_mode": {
    "name": "ipython",
    "version": 3
   },
   "file_extension": ".py",
   "mimetype": "text/x-python",
   "name": "python",
   "nbconvert_exporter": "python",
   "pygments_lexer": "ipython3",
   "version": "3.10.12"
  }
 },
 "nbformat": 4,
 "nbformat_minor": 5
}
